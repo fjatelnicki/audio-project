{
 "cells": [
  {
   "cell_type": "markdown",
   "id": "5d8776fc-d73d-4457-9b41-40867c4f880c",
   "metadata": {},
   "source": [
    "# Imports"
   ]
  },
  {
   "cell_type": "code",
   "execution_count": 59,
   "id": "ccf5af3c-b5c8-4594-bbb2-0de8543981a8",
   "metadata": {},
   "outputs": [],
   "source": [
    "from transformers import Wav2Vec2ForCTC, Wav2Vec2Processor\n",
    "from jiwer import wer\n",
    "\n",
    "import torch\n",
    "import glob\n",
    "import os\n",
    "import librosa\n",
    "import torchaudio"
   ]
  },
  {
   "cell_type": "markdown",
   "id": "2653bebb-d57a-4073-8bd9-9e3c39813e6d",
   "metadata": {},
   "source": [
    "# Load data"
   ]
  },
  {
   "cell_type": "code",
   "execution_count": 64,
   "id": "71c5aa64-1d30-48df-b4cc-57048f77ab8c",
   "metadata": {},
   "outputs": [],
   "source": [
    "def load_transcripts(config=\"clean\", split=\"test\", base_path=\"\"):\n",
    "    transcripts={}\n",
    "    \n",
    "    for filepath in glob.glob(f\"{base_path}/*/*/*.txt\", recursive=True):\n",
    "        with open(filepath, \"r\") as f:\n",
    "            for line in f.readlines():\n",
    "                tokens = line.split(\"\\n\")[0].split(\" \")\n",
    "                transcripts[tokens[0]] = \" \".join(tokens[1:])\n",
    "\n",
    "    return transcripts\n",
    "\n",
    "\n",
    "def load_audio(config=\"clean\", split=\"test\", path=\"\"):\n",
    "    speech, sr = torchaudio.load(path)\n",
    "    speech = speech.squeeze()\n",
    "    resampler = torchaudio.transforms.Resample(sr, 16000)\n",
    "    speech = resampler(speech)\n",
    "    \n",
    "    return speech\n",
    "    \n",
    "    \n",
    "def load_dataset(config=\"clean\", split=\"test\"):\n",
    "    BASE_PATH = f\"../data/en/LibriSpeech/{split.lower()}-{config.lower()}\"\n",
    "    \n",
    "    transcripts = load_transcripts(config, split, BASE_PATH)\n",
    "    audio = {}\n",
    "    \n",
    "    for key, value in transcripts.items():\n",
    "        audio_path = f\"{BASE_PATH}/{'/'.join(key.split('-')[:2])}/{key}.flac\"\n",
    "        audio[key] = load_audio(config, split, audio_path)\n",
    "        \n",
    "    return transcripts, audio\n",
    "\n",
    "transcripts, audio = load_dataset()"
   ]
  },
  {
   "cell_type": "markdown",
   "id": "66c28a91-111a-4997-a23d-5ed4c733722d",
   "metadata": {},
   "source": [
    "# Load model"
   ]
  },
  {
   "cell_type": "code",
   "execution_count": 65,
   "id": "ee9f4235-be04-47fe-9edb-4344869a467e",
   "metadata": {},
   "outputs": [
    {
     "name": "stderr",
     "output_type": "stream",
     "text": [
      "Downloading: 100%|██████████████████████████████████████████████████████████████████████████████████████████████████████| 1.60k/1.60k [00:00<00:00, 641kB/s]\n",
      "Downloading: 100%|███████████████████████████████████████████████████████████████████████████████████████████████████████| 378M/378M [00:15<00:00, 24.9MB/s]\n",
      "Some weights of Wav2Vec2ForCTC were not initialized from the model checkpoint at facebook/wav2vec2-base-960h and are newly initialized: ['wav2vec2.masked_spec_embed']\n",
      "You should probably TRAIN this model on a down-stream task to be able to use it for predictions and inference.\n",
      "Downloading: 100%|█████████████████████████████████████████████████████████████████████████████████████████████████████████| 159/159 [00:00<00:00, 65.5kB/s]\n",
      "Downloading: 100%|█████████████████████████████████████████████████████████████████████████████████████████████████████████| 163/163 [00:00<00:00, 67.7kB/s]\n",
      "Downloading: 100%|██████████████████████████████████████████████████████████████████████████████████████████████████████████| 291/291 [00:00<00:00, 115kB/s]\n",
      "Downloading: 100%|███████████████████████████████████████████████████████████████████████████████████████████████████████| 85.0/85.0 [00:00<00:00, 44.7kB/s]\n"
     ]
    }
   ],
   "source": [
    "model = Wav2Vec2ForCTC.from_pretrained(\"facebook/wav2vec2-base-960h\")\n",
    "processor = Wav2Vec2Processor.from_pretrained(\"facebook/wav2vec2-base-960h\")"
   ]
  },
  {
   "cell_type": "code",
   "execution_count": 67,
   "id": "b037da6a-77b3-42d8-bb7c-135eccf5bbfe",
   "metadata": {},
   "outputs": [
    {
     "data": {
      "text/plain": [
       "['61-70970-0000',\n",
       " '61-70970-0001',\n",
       " '61-70970-0002',\n",
       " '61-70970-0003',\n",
       " '61-70970-0004',\n",
       " '61-70970-0005',\n",
       " '61-70970-0006',\n",
       " '61-70970-0007',\n",
       " '61-70970-0008',\n",
       " '61-70970-0009']"
      ]
     },
     "execution_count": 67,
     "metadata": {},
     "output_type": "execute_result"
    }
   ],
   "source": [
    "list(transcripts.keys())[:10]"
   ]
  },
  {
   "cell_type": "code",
   "execution_count": 70,
   "id": "cb5e2ce2-c214-4741-8be5-125571408f2f",
   "metadata": {},
   "outputs": [],
   "source": [
    "input_values = processor(audio[\"61-70970-0000\"], return_tensors=\"pt\", sampling_rate=16000)[\"input_values\"]"
   ]
  },
  {
   "cell_type": "code",
   "execution_count": 71,
   "id": "2f0e20d2-ded8-47f3-921b-44004df81bf6",
   "metadata": {},
   "outputs": [],
   "source": [
    "logits = model(input_values)[\"logits\"]\n"
   ]
  },
  {
   "cell_type": "code",
   "execution_count": 72,
   "id": "154925f6-7c10-492d-bf7e-327b1f47e545",
   "metadata": {},
   "outputs": [],
   "source": [
    "predicted_ids = torch.argmax(logits, dim=-1)"
   ]
  },
  {
   "cell_type": "code",
   "execution_count": 73,
   "id": "90cb7a63-0599-4a61-9a54-bd4caa494fa5",
   "metadata": {},
   "outputs": [],
   "source": [
    "transcription = processor.decode(predicted_ids[0])"
   ]
  },
  {
   "cell_type": "code",
   "execution_count": 74,
   "id": "f5c6fde3-97c7-43bb-aa92-7fda9bea187e",
   "metadata": {},
   "outputs": [
    {
     "data": {
      "text/plain": [
       "\"YOUNG FITZOOTH HAD BEEN COMMANDED TO HIS MOTHER'S CHAMBER SO SOON AS HE HAD COME OUT FROM HIS CONVERSE WITH THE SQUIRE\""
      ]
     },
     "execution_count": 74,
     "metadata": {},
     "output_type": "execute_result"
    }
   ],
   "source": [
    "transcription"
   ]
  },
  {
   "cell_type": "code",
   "execution_count": 75,
   "id": "4bd67bd7-8ea4-46e1-be66-465dd6ecfb79",
   "metadata": {},
   "outputs": [
    {
     "data": {
      "text/plain": [
       "\"YOUNG FITZOOTH HAD BEEN COMMANDED TO HIS MOTHER'S CHAMBER SO SOON AS HE HAD COME OUT FROM HIS CONVERSE WITH THE SQUIRE\""
      ]
     },
     "execution_count": 75,
     "metadata": {},
     "output_type": "execute_result"
    }
   ],
   "source": [
    "transcripts[\"61-70970-0000\"]"
   ]
  },
  {
   "cell_type": "code",
   "execution_count": 77,
   "id": "849b61a0-3418-444d-9f69-a16d646a9a64",
   "metadata": {},
   "outputs": [
    {
     "data": {
      "text/plain": [
       "0.0"
      ]
     },
     "execution_count": 77,
     "metadata": {},
     "output_type": "execute_result"
    }
   ],
   "source": [
    "wer([transcription], [transcripts[\"61-70970-0000\"]])"
   ]
  },
  {
   "cell_type": "code",
   "execution_count": null,
   "id": "129aeea1-92ca-42aa-ad40-2ab62fdadc9f",
   "metadata": {},
   "outputs": [],
   "source": []
  }
 ],
 "metadata": {
  "kernelspec": {
   "display_name": "Python 3 (ipykernel)",
   "language": "python",
   "name": "python3"
  },
  "language_info": {
   "codemirror_mode": {
    "name": "ipython",
    "version": 3
   },
   "file_extension": ".py",
   "mimetype": "text/x-python",
   "name": "python",
   "nbconvert_exporter": "python",
   "pygments_lexer": "ipython3",
   "version": "3.9.13"
  }
 },
 "nbformat": 4,
 "nbformat_minor": 5
}
