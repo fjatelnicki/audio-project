{
 "cells": [
  {
   "cell_type": "markdown",
   "id": "5d8776fc-d73d-4457-9b41-40867c4f880c",
   "metadata": {},
   "source": [
    "# Imports"
   ]
  },
  {
   "cell_type": "code",
   "execution_count": 14,
   "id": "ccf5af3c-b5c8-4594-bbb2-0de8543981a8",
   "metadata": {},
   "outputs": [],
   "source": [
    "from transformers import Wav2Vec2ForCTC, Wav2Vec2Processor\n",
    "from jiwer import wer\n",
    "\n",
    "import torch\n",
    "import glob\n",
    "import os\n",
    "import librosa\n",
    "import torchaudio\n",
    "import numpy as np"
   ]
  },
  {
   "cell_type": "markdown",
   "id": "4c638da2-a156-4a85-937d-4a0d44d3d55c",
   "metadata": {},
   "source": [
    "# Load model"
   ]
  },
  {
   "cell_type": "code",
   "execution_count": 21,
   "id": "a4c8cbde-d99d-47c8-b4c4-c3197a3d08a8",
   "metadata": {},
   "outputs": [
    {
     "name": "stderr",
     "output_type": "stream",
     "text": [
      "Some weights of Wav2Vec2ForCTC were not initialized from the model checkpoint at facebook/wav2vec2-base-960h and are newly initialized: ['wav2vec2.masked_spec_embed']\n",
      "You should probably TRAIN this model on a down-stream task to be able to use it for predictions and inference.\n"
     ]
    }
   ],
   "source": [
    "model = Wav2Vec2ForCTC.from_pretrained(\"facebook/wav2vec2-base-960h\")\n",
    "processor = Wav2Vec2Processor.from_pretrained(\"facebook/wav2vec2-base-960h\")"
   ]
  },
  {
   "cell_type": "markdown",
   "id": "334a62c9-3e68-4e21-aa1f-bba05fa59a62",
   "metadata": {},
   "source": [
    "# English"
   ]
  },
  {
   "cell_type": "markdown",
   "id": "2653bebb-d57a-4073-8bd9-9e3c39813e6d",
   "metadata": {},
   "source": [
    "## Load data"
   ]
  },
  {
   "cell_type": "code",
   "execution_count": 3,
   "id": "71c5aa64-1d30-48df-b4cc-57048f77ab8c",
   "metadata": {},
   "outputs": [],
   "source": [
    "def load_transcripts(config=\"clean\", split=\"test\", base_path=\"\"):\n",
    "    transcripts={}\n",
    "    \n",
    "    for filepath in glob.glob(f\"{base_path}/*/*/*.txt\", recursive=True):\n",
    "        with open(filepath, \"r\") as f:\n",
    "            for line in f.readlines():\n",
    "                tokens = line.split(\"\\n\")[0].split(\" \")\n",
    "                transcripts[tokens[0]] = \" \".join(tokens[1:])\n",
    "\n",
    "    return transcripts\n",
    "\n",
    "\n",
    "def load_audio(config=\"clean\", split=\"test\", path=\"\"):\n",
    "    speech, sr = torchaudio.load(path)\n",
    "    speech = speech.squeeze()\n",
    "    resampler = torchaudio.transforms.Resample(sr, 16000)\n",
    "    speech = resampler(speech)\n",
    "    \n",
    "    return speech\n",
    "    \n",
    "    \n",
    "def load_dataset(config=\"clean\", split=\"test\"):\n",
    "    BASE_PATH = f\"../data/en/LibriSpeech/{split.lower()}-{config.lower()}\"\n",
    "    \n",
    "    transcripts = load_transcripts(config, split, BASE_PATH)\n",
    "    audio = {}\n",
    "    \n",
    "    for key, value in transcripts.items():\n",
    "        audio_path = f\"{BASE_PATH}/{'/'.join(key.split('-')[:2])}/{key}.flac\"\n",
    "        audio[key] = load_audio(config, split, audio_path)\n",
    "        \n",
    "    return transcripts, audio\n",
    "\n",
    "transcripts, audio = load_dataset()"
   ]
  },
  {
   "cell_type": "markdown",
   "id": "85250ff3-1d69-437e-ae43-27f79ff57819",
   "metadata": {},
   "source": [
    "## Evaluate base performance (W.E.R)"
   ]
  },
  {
   "cell_type": "code",
   "execution_count": 20,
   "id": "b037da6a-77b3-42d8-bb7c-135eccf5bbfe",
   "metadata": {},
   "outputs": [
    {
     "name": "stdout",
     "output_type": "stream",
     "text": [
      "wer: 0.021323529411764706\n",
      "CPU times: user 15.6 s, sys: 2.51 s, total: 18.1 s\n",
      "Wall time: 3.21 s\n"
     ]
    }
   ],
   "source": [
    "%%time\n",
    "wer_scores = []\n",
    "\n",
    "for key in list(transcripts.keys())[:10]:    \n",
    "    input_values = processor(audio[key], return_tensors=\"pt\", sampling_rate=16000)[\"input_values\"]\n",
    "    logits = model(input_values)[\"logits\"]\n",
    "    \n",
    "    predicted_ids = torch.argmax(logits, dim=-1)\n",
    "    transcription = processor.decode(predicted_ids[0])\n",
    "    wer_scores.append(wer([transcription], [transcripts[key]]))\n",
    "    \n",
    "print(f\"wer: {np.average(wer_scores)}\")"
   ]
  },
  {
   "cell_type": "markdown",
   "id": "8473064e-b5f4-4162-b37a-bee80cd92cad",
   "metadata": {},
   "source": [
    "# Polish"
   ]
  },
  {
   "cell_type": "markdown",
   "id": "472a172f-2808-4523-8b14-5898d06315da",
   "metadata": {},
   "source": [
    "## Load data"
   ]
  },
  {
   "cell_type": "code",
   "execution_count": 33,
   "id": "7b4c7b16-9841-4b93-862d-73d5b5bae0b0",
   "metadata": {},
   "outputs": [],
   "source": [
    "def load_polish_transcripts(split=\"test\", base_path=\"\"):\n",
    "    transcripts={}\n",
    "    \n",
    "    with open(f\"{base_path}/transcripts.txt\", \"r\") as f:\n",
    "        for line in f.readlines():\n",
    "            tokens = line.split(\"\\n\")[0].split(\"\\t\")\n",
    "            transcripts[tokens[0]] = \" \".join(tokens[1:])\n",
    "\n",
    "    return transcripts\n",
    "\n",
    "\n",
    "def load_polish_audio(split=\"test\", path=\"\"):\n",
    "    speech, sr = torchaudio.load(path)\n",
    "    speech = speech.squeeze()\n",
    "    resampler = torchaudio.transforms.Resample(sr, 16000)\n",
    "    speech = resampler(speech)\n",
    "    \n",
    "    return speech\n",
    "    \n",
    "    \n",
    "def load_polish_dataset(split=\"test\"):\n",
    "    BASE_PATH = f\"../data/polish/mls_polish_opus/{split.lower()}\"\n",
    "    \n",
    "    transcripts = load_polish_transcripts(split, BASE_PATH)\n",
    "    audio = {}\n",
    "    \n",
    "    for key, value in transcripts.items():\n",
    "        audio_path = f\"{BASE_PATH}/audio/{'/'.join(key.split('_')[:2])}/{key}.opus\"\n",
    "        audio[key] = load_polish_audio(split, audio_path)\n",
    "        \n",
    "    return transcripts, audio\n",
    "\n",
    "transcripts, audio = load_polish_dataset()"
   ]
  },
  {
   "cell_type": "markdown",
   "id": "87f6b5c8-1616-4530-bd08-ca7922971b98",
   "metadata": {},
   "source": [
    "## Evaluate base performance (W.E.R)"
   ]
  },
  {
   "cell_type": "code",
   "execution_count": 34,
   "id": "0555e090-e699-4803-ae17-85d49aba0309",
   "metadata": {},
   "outputs": [
    {
     "name": "stdout",
     "output_type": "stream",
     "text": [
      "wer: 1.307249343009336\n",
      "CPU times: user 1min 8s, sys: 11.1 s, total: 1min 19s\n",
      "Wall time: 17.1 s\n"
     ]
    }
   ],
   "source": [
    "%%time\n",
    "wer_scores = []\n",
    "\n",
    "for key in list(transcripts.keys())[:10]:    \n",
    "    input_values = processor(audio[key], return_tensors=\"pt\", sampling_rate=16000)[\"input_values\"]\n",
    "    logits = model(input_values)[\"logits\"]\n",
    "    \n",
    "    predicted_ids = torch.argmax(logits, dim=-1)\n",
    "    transcription = processor.decode(predicted_ids[0])\n",
    "    wer_scores.append(wer([transcription], [transcripts[key]]))\n",
    "    \n",
    "print(f\"wer: {np.average(wer_scores)}\")"
   ]
  },
  {
   "cell_type": "code",
   "execution_count": null,
   "id": "310f802d-3ff1-4f6b-a1df-dc9895665f5b",
   "metadata": {},
   "outputs": [],
   "source": []
  }
 ],
 "metadata": {
  "kernelspec": {
   "display_name": "Python 3 (ipykernel)",
   "language": "python",
   "name": "python3"
  },
  "language_info": {
   "codemirror_mode": {
    "name": "ipython",
    "version": 3
   },
   "file_extension": ".py",
   "mimetype": "text/x-python",
   "name": "python",
   "nbconvert_exporter": "python",
   "pygments_lexer": "ipython3",
   "version": "3.9.13"
  }
 },
 "nbformat": 4,
 "nbformat_minor": 5
}
